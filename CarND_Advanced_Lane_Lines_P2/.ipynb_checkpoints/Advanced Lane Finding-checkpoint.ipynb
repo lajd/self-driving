{
 "cells": [
  {
   "cell_type": "markdown",
   "metadata": {},
   "source": [
    "Advanced Lane Finding Project\n",
    "The goals / steps of this project are the following:\n",
    "\n",
    "Compute the camera calibration matrix and distortion coefficients given a set of chessboard images.\n",
    "Apply a distortion correction to raw images.\n",
    "Use color transforms, gradients, etc., to create a thresholded binary image.\n",
    "Apply a perspective transform to rectify binary image (\"birds-eye view\").\n",
    "Detect lane pixels and fit to find the lane boundary.\n",
    "Determine the curvature of the lane and vehicle position with respect to center.\n",
    "Warp the detected lane boundaries back onto the original image.\n",
    "Output visual display of the lane boundaries and numerical estimation of lane curvature and vehicle position.\n"
   ]
  },
  {
   "cell_type": "code",
   "execution_count": 21,
   "metadata": {},
   "outputs": [],
   "source": [
    "import os \n",
    "from typing import List, Tuple\n",
    "\n",
    "import glob\n",
    "import cv2\n",
    "import numpy as np\n",
    "\n"
   ]
  },
  {
   "cell_type": "code",
   "execution_count": 22,
   "metadata": {},
   "outputs": [],
   "source": [
    "CAMERA_CALIBRATION_DIR = os.path.abspath('./camera_cal')\n",
    "CHESSBOARD_DIMENSIONS = (9, 6)\n",
    "\n",
    "CALIBRATION_IMAGE_FILE_PATHS = glob.glob(f'{CAMERA_CALIBRATION_DIR}/*.jpg')"
   ]
  },
  {
   "cell_type": "code",
   "execution_count": 23,
   "metadata": {},
   "outputs": [
    {
     "data": {
      "text/plain": [
       "['/home/jon/PycharmProjects/self-driving/CarND-Advanced-Lane-Lines-P2/camera_cal/calibration15.jpg',\n",
       " '/home/jon/PycharmProjects/self-driving/CarND-Advanced-Lane-Lines-P2/camera_cal/calibration20.jpg',\n",
       " '/home/jon/PycharmProjects/self-driving/CarND-Advanced-Lane-Lines-P2/camera_cal/calibration18.jpg',\n",
       " '/home/jon/PycharmProjects/self-driving/CarND-Advanced-Lane-Lines-P2/camera_cal/calibration1.jpg',\n",
       " '/home/jon/PycharmProjects/self-driving/CarND-Advanced-Lane-Lines-P2/camera_cal/calibration11.jpg',\n",
       " '/home/jon/PycharmProjects/self-driving/CarND-Advanced-Lane-Lines-P2/camera_cal/calibration13.jpg',\n",
       " '/home/jon/PycharmProjects/self-driving/CarND-Advanced-Lane-Lines-P2/camera_cal/calibration3.jpg',\n",
       " '/home/jon/PycharmProjects/self-driving/CarND-Advanced-Lane-Lines-P2/camera_cal/calibration6.jpg',\n",
       " '/home/jon/PycharmProjects/self-driving/CarND-Advanced-Lane-Lines-P2/camera_cal/calibration19.jpg',\n",
       " '/home/jon/PycharmProjects/self-driving/CarND-Advanced-Lane-Lines-P2/camera_cal/calibration5.jpg',\n",
       " '/home/jon/PycharmProjects/self-driving/CarND-Advanced-Lane-Lines-P2/camera_cal/calibration17.jpg',\n",
       " '/home/jon/PycharmProjects/self-driving/CarND-Advanced-Lane-Lines-P2/camera_cal/calibration16.jpg',\n",
       " '/home/jon/PycharmProjects/self-driving/CarND-Advanced-Lane-Lines-P2/camera_cal/calibration9.jpg',\n",
       " '/home/jon/PycharmProjects/self-driving/CarND-Advanced-Lane-Lines-P2/camera_cal/calibration8.jpg',\n",
       " '/home/jon/PycharmProjects/self-driving/CarND-Advanced-Lane-Lines-P2/camera_cal/calibration4.jpg',\n",
       " '/home/jon/PycharmProjects/self-driving/CarND-Advanced-Lane-Lines-P2/camera_cal/calibration10.jpg',\n",
       " '/home/jon/PycharmProjects/self-driving/CarND-Advanced-Lane-Lines-P2/camera_cal/calibration7.jpg',\n",
       " '/home/jon/PycharmProjects/self-driving/CarND-Advanced-Lane-Lines-P2/camera_cal/calibration12.jpg',\n",
       " '/home/jon/PycharmProjects/self-driving/CarND-Advanced-Lane-Lines-P2/camera_cal/calibration14.jpg',\n",
       " '/home/jon/PycharmProjects/self-driving/CarND-Advanced-Lane-Lines-P2/camera_cal/calibration2.jpg']"
      ]
     },
     "execution_count": 23,
     "metadata": {},
     "output_type": "execute_result"
    }
   ],
   "source": []
  },
  {
   "cell_type": "code",
   "execution_count": 26,
   "metadata": {},
   "outputs": [],
   "source": [
    "\n",
    "\n",
    "def un_warp_image(gray_image: np.ndarray, objpoints, imgpoints):\n",
    "    ret, mtx, dist, rvecs, tvecs = cv2.calibrateCamera(\n",
    "        objpoints, imgpoints, gray_image.shape[::-1], None, None\n",
    "    )\n",
    "    undistort = cv2.undistort(gray_image, mtx, dist, None, mtx)\n",
    "    return undistort\n",
    "\n",
    "\n",
    "def get_camera_parameters(image_shape, object_points, image_points):\n",
    "    \"\"\"\n",
    "    It returns the camera matrix, distortion coefficients, rotation and translation vectors etc.\n",
    "    \"\"\"\n",
    "    ret, mtx, dist, rvecs, tvecs = cv2.calibrateCamera(\n",
    "        objpoints, imgpoints, image_shape.shape[::-1], None, None\n",
    "    )\n",
    "    \n",
    "    return ret, mtx, dist, rvecs, tvecs\n",
    "\n",
    "def get_obj_points_from_chessboard_dimensions(chessboard_dimensions: Tuple[int, int] = (9, 6)):\n",
    "    # prepare object points, like (0,0,0), (1,0,0), (2,0,0) ....,(6,5,0)\n",
    "    x, y = chessboard_dimensions\n",
    "    object_points: np.ndarray = np.zeros((x * y, 3), np.float32)\n",
    "    object_points[:, :2] = np.mgrid[0:x, 0:y].T.reshape(-1, 2)\n",
    "    return object_points\n",
    "\n",
    "\n",
    "objp = np.zeros((6*7,3), np.float32)\n",
    "objp[:,:2] = np.mgrid[0:7,0:6].T.reshape(-1,2)\n",
    "\n",
    "def get_calibration(\n",
    "        chessboard_dimensions: Tuple[int, int],\n",
    "        image_filepaths: List[str] = glob.glob('*.jpg'),\n",
    "        show_images: bool = False,\n",
    "        show_plot_wait_time_ms: int = 500\n",
    ") -> Tuple[list, list]:\n",
    "    x, y = chessboard_dimensions\n",
    "    obj_points = get_obj_points_from_chessboard_dimensions(chessboard_dimensions)\n",
    "    # Arrays to store object points and image points from all the images.\n",
    "    objpoints = []  # 3d points in real world space\n",
    "    imgpoints = []  # 2d points in image plane.\n",
    "\n",
    "    # Step through the list and search for chessboard corners\n",
    "    for file_paths in image_filepaths:\n",
    "        img = cv2.imread(file_paths)\n",
    "        gray = cv2.cvtColor(img, cv2.COLOR_BGR2GRAY)\n",
    "\n",
    "        # Find the chessboard corners\n",
    "        ret, corners = cv2.findChessboardCorners(gray, (x, y), None)\n",
    "\n",
    "        # If found, add object points, image points\n",
    "        if ret == True:\n",
    "            objpoints.append(obj_points)\n",
    "            imgpoints.append(corners)\n",
    "\n",
    "            # Draw and display the corners\n",
    "            img = cv2.drawChessboardCorners(img, (x, y), corners, ret)\n",
    "\n",
    "            if show_images:\n",
    "                cv2.imshow('calibration Image', img)\n",
    "                cv2.waitKey(show_plot_wait_time_ms)\n",
    "\n",
    "    if show_images:\n",
    "        cv2.destroyAllWindows()\n",
    "    return objpoints, imgpoints\n",
    "\n"
   ]
  },
  {
   "cell_type": "code",
   "execution_count": 29,
   "metadata": {},
   "outputs": [],
   "source": [
    "object_points, image_points = get_calibration(CHESSBOARD_DIMENSIONS, CALIBRATION_IMAGE_FILE_PATHS, True)"
   ]
  },
  {
   "cell_type": "code",
   "execution_count": null,
   "metadata": {},
   "outputs": [],
   "source": []
  },
  {
   "cell_type": "code",
   "execution_count": null,
   "metadata": {},
   "outputs": [],
   "source": []
  }
 ],
 "metadata": {
  "kernelspec": {
   "display_name": "self-driving",
   "language": "python",
   "name": "self-driving"
  },
  "language_info": {
   "codemirror_mode": {
    "name": "ipython",
    "version": 3
   },
   "file_extension": ".py",
   "mimetype": "text/x-python",
   "name": "python",
   "nbconvert_exporter": "python",
   "pygments_lexer": "ipython3",
   "version": "3.8.6"
  }
 },
 "nbformat": 4,
 "nbformat_minor": 4
}
